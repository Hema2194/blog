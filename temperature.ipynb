{
 "cells": [
  {
   "cell_type": "markdown",
   "id": "66f56d14-509f-4976-bd0b-ce3212b96037",
   "metadata": {},
   "source": [
    "# ETL"
   ]
  },
  {
   "cell_type": "markdown",
   "id": "2b1d5da1-860f-41dc-b0b2-410a21be0a51",
   "metadata": {},
   "source": [
    "For this lab, we are going to be using Python and several Python libraries."
   ]
  },
  {
   "cell_type": "code",
   "execution_count": null,
   "id": "a46946f2-869c-4037-bcfe-176c8edad8ec",
   "metadata": {},
   "outputs": [],
   "source": [
    "#!pip install glob\n",
    "#!pip install pandas\n",
    "#!pip install requests\n",
    "#!pip install datetime"
   ]
  },
  {
   "cell_type": "markdown",
   "id": "7bcb6bb8-735d-4567-be75-122ed1ec8aed",
   "metadata": {},
   "source": [
    "## Importing the libraries"
   ]
  },
  {
   "cell_type": "code",
   "execution_count": null,
   "id": "4ff8ce4f-a7d8-4690-bb2d-7294702aeda7",
   "metadata": {},
   "outputs": [],
   "source": [
    "import glob\n",
    "import pandas as pd\n",
    "from datetime import datetime"
   ]
  },
  {
   "cell_type": "markdown",
   "id": "eaf06a14-99ca-49ac-86c6-a25351168393",
   "metadata": {},
   "source": [
    "##### Let us download the modified city_temperature dataset "
   ]
  },
  {
   "cell_type": "code",
   "execution_count": null,
   "id": "19a0329b-368a-4459-a243-9baadb68bb86",
   "metadata": {},
   "outputs": [],
   "source": [
    "!wget https://github.com/Hema2194/blog/blob/main/city_temperature.csv"
   ]
  },
  {
   "cell_type": "markdown",
   "id": "f463b8c2-4860-43d1-b5ab-f81966756d6b",
   "metadata": {},
   "source": [
    "## Extract"
   ]
  },
  {
   "cell_type": "markdown",
   "id": "74fc41bf-b7b3-4e88-8f59-3b87299b3efa",
   "metadata": {},
   "source": [
    "#### CSV Extract function: This function will extract CSV files."
   ]
  },
  {
   "cell_type": "code",
   "execution_count": null,
   "id": "1726ed2e-a627-44ed-9025-6196e9ac916b",
   "metadata": {},
   "outputs": [],
   "source": [
    "def extract_from_csv(file_to_process):\n",
    "    dataframe=pd.read_csv(file_to_process)\n",
    "    return dataframe"
   ]
  },
  {
   "cell_type": "markdown",
   "id": "0f492564-88b7-40c8-9803-3f3a4646ba61",
   "metadata": {},
   "source": [
    "##### Defining the extract function to find the CSV file city_temperature.csv and calls the function created above to extract data from them. Store the data in a pandas dataframe."
   ]
  },
  {
   "cell_type": "code",
   "execution_count": null,
   "id": "15b3d572-0f27-4cf1-941a-799e483f7e57",
   "metadata": {},
   "outputs": [],
   "source": [
    "def extract():\n",
    "    extracted_data=pd.DataFrame(columns=['City','Month','AvgTemp_fahrenheit'])\n",
    "    for csv_file in glob.glob(\"city_temperature.csv\"):\n",
    "        extracted_data=extracted_data.append(extract_from_csv(csv_file))\n",
    "        return extracted_data"
   ]
  },
  {
   "cell_type": "code",
   "execution_count": null,
   "id": "c0483928-ee11-4aa2-b3c3-b777c3c62abe",
   "metadata": {},
   "outputs": [],
   "source": [
    "#without using glob function:\n",
    "#def extract():\n",
    "    #extracted_data=pd.DataFrame(columns=['City','Month','AvgTemp_fahrenheit'])\n",
    "    #extracted_data=extracted_data.append(extract_from_csv('city_temperature.csv'))\n",
    "    #return extracted_data"
   ]
  },
  {
   "cell_type": "markdown",
   "id": "755623b6-b3ce-43e6-98d3-3439e1ca7af8",
   "metadata": {},
   "source": [
    "### Transform"
   ]
  },
  {
   "cell_type": "markdown",
   "id": "395828ca-3e42-4eb4-90b3-41ea715c2efb",
   "metadata": {},
   "source": [
    "##### Defining a transform function that changes average temperature from Fahrenheit to Celsius"
   ]
  },
  {
   "cell_type": "code",
   "execution_count": null,
   "id": "debd1d7a-fbdc-4e63-8054-4d2e684d8fe9",
   "metadata": {},
   "outputs": [],
   "source": [
    "def transform(data):\n",
    "    data['AvgTemp_fahrenheit']=(data['AvgTemp_fahrenheit']-32)*(5/9)\n",
    "    data.rename(columns={'AvgTemp_fahrenheit':'AvgTemp_celsius'},inplace=True)\n",
    "    return data"
   ]
  },
  {
   "cell_type": "markdown",
   "id": "e22498b5-45e8-4847-9cab-524a2e6fd6b3",
   "metadata": {},
   "source": [
    "### Load "
   ]
  },
  {
   "cell_type": "markdown",
   "id": "699449c8-4f9b-47c7-9a2a-3343b6405357",
   "metadata": {},
   "source": [
    "##### Defining a load function that takes a dataframe and load it to a csv named temp_celsius.csv. Make sure to set index to False."
   ]
  },
  {
   "cell_type": "code",
   "execution_count": null,
   "id": "23275ff9-730d-4b9e-af7a-83e986d6de80",
   "metadata": {},
   "outputs": [],
   "source": [
    "def load(data_to_load):\n",
    "    data_to_load.to_csv(\"temp_celsius.csv\",index=False)"
   ]
  },
  {
   "cell_type": "markdown",
   "id": "928934a9-365e-49e8-8b8e-32c01f210466",
   "metadata": {},
   "source": [
    "### Logging function"
   ]
  },
  {
   "cell_type": "markdown",
   "id": "88775fc9-97cd-4809-9e34-ea1140a9d6ff",
   "metadata": {},
   "source": [
    "##### Defining the log function to log the data"
   ]
  },
  {
   "cell_type": "code",
   "execution_count": null,
   "id": "a0204529-3f9e-4e15-86c4-9e68da18d095",
   "metadata": {},
   "outputs": [],
   "source": [
    "def log(message):\n",
    "    timestamp_format= '%Y-%m-%d %H:%M:%S'\n",
    "    now= datetime.now()\n",
    "    print(\"now =\", now)\n",
    "    timestamp= now.strftime(timestamp_format)\n",
    "    print(\"date and time =\", timestamp)"
   ]
  },
  {
   "cell_type": "markdown",
   "id": "ecb1beea-e161-4793-ae8a-c2a6c29ff9ed",
   "metadata": {},
   "source": [
    "##### Running the ETL Process and Logging the process at every stage"
   ]
  },
  {
   "cell_type": "code",
   "execution_count": null,
   "id": "c120f938-cdd6-4e2f-adca-f8978aa63b92",
   "metadata": {},
   "outputs": [],
   "source": [
    "log(\"ETL Job Started\")"
   ]
  },
  {
   "cell_type": "markdown",
   "id": "ae9976d7-03fa-489c-adea-a10847defaba",
   "metadata": {},
   "source": [
    "#### Logging the begin of extract process"
   ]
  },
  {
   "cell_type": "code",
   "execution_count": null,
   "id": "906c5c62-4a01-4ca1-abf7-102829f46ff1",
   "metadata": {},
   "outputs": [],
   "source": [
    "log(\"Extract phase Started\")"
   ]
  },
  {
   "cell_type": "markdown",
   "id": "6aa0c156-6bfe-43b2-bca0-e7e21ab13f41",
   "metadata": {},
   "source": [
    "##### Using the extract function and printing the first 5 rows of the extracted_data "
   ]
  },
  {
   "cell_type": "code",
   "execution_count": null,
   "id": "63d0897c-d015-4156-a042-41b963cf13d2",
   "metadata": {},
   "outputs": [],
   "source": [
    "extracted_data=extract()\n",
    "extracted_data.head()"
   ]
  },
  {
   "cell_type": "markdown",
   "id": "fdb38828-5993-46d8-a412-2e8ae5d6ad08",
   "metadata": {},
   "source": [
    "#### Logging the completion of extract process"
   ]
  },
  {
   "cell_type": "code",
   "execution_count": null,
   "id": "6396e159-1fc1-47a9-8e6d-6c45dd393bba",
   "metadata": {},
   "outputs": [],
   "source": [
    "log(\"Extract phase Ended\")"
   ]
  },
  {
   "cell_type": "markdown",
   "id": "b2d96b5c-fa10-4ddd-8385-13ed1a09b7de",
   "metadata": {},
   "source": [
    "#### Logging the begin of transform process"
   ]
  },
  {
   "cell_type": "code",
   "execution_count": null,
   "id": "73180ed5-e2e9-4373-8ebe-48f52dbf25b5",
   "metadata": {},
   "outputs": [],
   "source": [
    "log(\"Transform phase Started\")"
   ]
  },
  {
   "cell_type": "markdown",
   "id": "5ea9c6f7-9650-4ba6-a743-c3fb28c12e44",
   "metadata": {},
   "source": [
    "##### Using the transform function and printing the first 5 rows of the transformed_data"
   ]
  },
  {
   "cell_type": "code",
   "execution_count": null,
   "id": "bdcdf266-a580-4524-a2cc-be822a613b75",
   "metadata": {},
   "outputs": [],
   "source": [
    "transformed_data=transform(extracted_data)\n",
    "transformed_data.head()"
   ]
  },
  {
   "cell_type": "markdown",
   "id": "dfd08746-ad92-4ea4-a489-bb22161bb642",
   "metadata": {},
   "source": [
    "#### Logging the completion of transform process"
   ]
  },
  {
   "cell_type": "code",
   "execution_count": null,
   "id": "453e0da5-f3d5-411c-9d48-308840ec28de",
   "metadata": {},
   "outputs": [],
   "source": [
    "log(\"Transform phase Ended\")"
   ]
  },
  {
   "cell_type": "markdown",
   "id": "36a330e9-6367-4c93-abd1-1b1e60eeeac9",
   "metadata": {},
   "source": [
    "#### Logging the begin of load process"
   ]
  },
  {
   "cell_type": "code",
   "execution_count": null,
   "id": "94c8592b-6915-48fe-8de7-0d79d5713e3c",
   "metadata": {},
   "outputs": [],
   "source": [
    "log(\"Load phase Started\")"
   ]
  },
  {
   "cell_type": "markdown",
   "id": "cf453251-0b12-47f3-8452-1bb64fa949b7",
   "metadata": {},
   "source": [
    "##### Calling the load function"
   ]
  },
  {
   "cell_type": "code",
   "execution_count": null,
   "id": "fdbb74c1-8154-4fe1-876b-ab300c335d0a",
   "metadata": {},
   "outputs": [],
   "source": [
    "load(transformed_data)"
   ]
  },
  {
   "cell_type": "markdown",
   "id": "769b57bf-8eeb-4594-90cb-82f28fe7be28",
   "metadata": {},
   "source": [
    "#### Logging the completion of load process"
   ]
  },
  {
   "cell_type": "code",
   "execution_count": null,
   "id": "2e524414-f93c-4842-b5d4-0c2213de372d",
   "metadata": {},
   "outputs": [],
   "source": [
    "log(\"Load phase Ended\")"
   ]
  },
  {
   "cell_type": "markdown",
   "id": "4ddcbf59-9653-44d6-af8a-a79f7bac3d22",
   "metadata": {},
   "source": [
    "## Author"
   ]
  },
  {
   "cell_type": "markdown",
   "id": "b7649828-adb3-4d73-8385-c3fcf23cb38f",
   "metadata": {},
   "source": [
    "Appalabhaktula Hema"
   ]
  }
 ],
 "metadata": {
  "kernelspec": {
   "display_name": "Python",
   "language": "python",
   "name": "conda-env-python-py"
  },
  "language_info": {
   "codemirror_mode": {
    "name": "ipython",
    "version": 3
   },
   "file_extension": ".py",
   "mimetype": "text/x-python",
   "name": "python",
   "nbconvert_exporter": "python",
   "pygments_lexer": "ipython3",
   "version": "3.7.12"
  }
 },
 "nbformat": 4,
 "nbformat_minor": 5
}
